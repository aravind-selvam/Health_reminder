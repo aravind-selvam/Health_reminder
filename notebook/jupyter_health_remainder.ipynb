{
 "cells": [
  {
   "cell_type": "markdown",
   "metadata": {},
   "source": [
    "## This Codes are used for demonstration purposes only. Run the code with health_reminder.py"
   ]
  },
  {
   "cell_type": "code",
   "execution_count": 13,
   "metadata": {},
   "outputs": [],
   "source": [
    "import os\n",
    "import sys\n",
    "import random\n",
    "from time import time\n",
    "from pygame import mixer\n",
    "from datetime import datetime\n",
    "from plyer import notification\n",
    "from reminder_utils.get_facts import *"
   ]
  },
  {
   "cell_type": "markdown",
   "metadata": {},
   "source": [
    "####  Why pygame library?\n",
    "* Here pygame mixer is used to run the mp3 songs from our local device\n",
    "* The pygame library is an open-source module for the Python programming language specifically intended to help you make games and other multimedia applications\n",
    "\n",
    "#### Why time and datetime library?\n",
    "* Both time and datetime library are used for various time-related functionality\n",
    "\n",
    "#### Why plyer library?\n",
    "* Plyer is a Python library for accessing features of your hardware / platforms.\n",
    "* here plyer library is used for accessing Notifications feature of our operating system and display reminders, from plyer library notification is imported."
   ]
  },
  {
   "cell_type": "markdown",
   "metadata": {},
   "source": [
    "### 1) We write a function to play music using pygame library:"
   ]
  },
  {
   "cell_type": "code",
   "execution_count": 14,
   "metadata": {},
   "outputs": [],
   "source": [
    "## Music function takes in path of the music file and plays it\n",
    "def music_function(music_file):\n",
    "    mixer.init()\n",
    "    mixer.music.load(music_file)\n",
    "    mixer.music.play()\n",
    "    \n",
    "    # If music is already playing\n",
    "    while True:\n",
    "        # To stop the music user inputs done with reminder\n",
    "        userinput = input(\"Please type DONE to stop reminder music:\")\n",
    "        command = [\"DONE\", \"done\", \"Done\"]\n",
    "        if userinput in command:\n",
    "            mixer.music.stop()\n",
    "            break"
   ]
  },
  {
   "cell_type": "markdown",
   "metadata": {},
   "source": [
    "### 2) Write a function for task which gives notifications for the drink water reminder:"
   ]
  },
  {
   "cell_type": "code",
   "execution_count": 15,
   "metadata": {},
   "outputs": [],
   "source": [
    "## For demonstration purposes only Drink water is used here\n",
    "def Drinkwater():\n",
    "    '''\n",
    "    Function for Drink water reminder\n",
    "    '''\n",
    "    water_facts = get_water_facts() # gets facts about drinking water from utils\n",
    "    print(\"Drink water now !!!\") # prints out the instructions on console(CLI)\n",
    "    \n",
    "    # Notifications is used to remind the user for certain tasks(Here drinking water)\n",
    "    notification.notify(\n",
    "        title = \"Drink water\",\n",
    "        message = random.choice(water_facts), # random message from facts appear in operating system\n",
    "        app_icon=os.path.join('reminder_resources',\"icons/waters.ico\"), # app icon is used to display icon for notification\n",
    "        timeout = 13 # timeout for notification popup\n",
    "    )\n",
    "    \n",
    "    # After notification poped up, music is played as alarm for reminder\n",
    "    music_function(os.path.join('reminder_resources', \"audio\\waters.mp3\"))\n",
    "    \n",
    "    # After music is stopped by the user with done command. the response is noted as success for that task\n",
    "    with open(os.path.join(\"reminder_timelogs/waterlog.txt\"), 'a+') as f:\n",
    "        f.write(f'Water Drank at: {str(datetime.now())}\\n') # Response is noted with exact date and time\n",
    "    print(\"Your Response has been stored in reminder_timelog directory\")"
   ]
  },
  {
   "cell_type": "markdown",
   "metadata": {},
   "source": [
    "### 3) Initialize a statement which will run the above mentioned functions under certain condition:"
   ]
  },
  {
   "cell_type": "code",
   "execution_count": 16,
   "metadata": {},
   "outputs": [],
   "source": [
    "if  __name__ == '__main__':# is used to execute some code only if the file was run directly, and not imported.\n",
    "    pass "
   ]
  },
  {
   "cell_type": "markdown",
   "metadata": {},
   "source": [
    "### 4) Now we run the seconds for each functions and set the reminder interval:"
   ]
  },
  {
   "cell_type": "code",
   "execution_count": 17,
   "metadata": {},
   "outputs": [],
   "source": [
    "# Initialize the timer with seconds\n",
    "waterTime = time()\n",
    "\n",
    "\n",
    "# Setting the reminder timing for each tasks\n",
    "water_reminder  = 0.5*60 # half minute timer interval for demonstration\n",
    "\n",
    "\n",
    "# Running the reminder function \n",
    "while True:\n",
    "    current_time = time() \n",
    "    if current_time - waterTime > water_reminder:\n",
    "        Drinkwater()\n",
    "        waterTime = time()"
   ]
  },
  {
   "cell_type": "code",
   "execution_count": null,
   "metadata": {},
   "outputs": [],
   "source": []
  }
 ],
 "metadata": {
  "kernelspec": {
   "display_name": "Python 3.9.12 ('base')",
   "language": "python",
   "name": "python3"
  },
  "language_info": {
   "codemirror_mode": {
    "name": "ipython",
    "version": 3
   },
   "file_extension": ".py",
   "mimetype": "text/x-python",
   "name": "python",
   "nbconvert_exporter": "python",
   "pygments_lexer": "ipython3",
   "version": "3.9.12"
  },
  "orig_nbformat": 4,
  "vscode": {
   "interpreter": {
    "hash": "fe5057b33890e8dd303e21b19623a3798ffaa8a05dcdf7dd3a35472e2b83b2ee"
   }
  }
 },
 "nbformat": 4,
 "nbformat_minor": 2
}
